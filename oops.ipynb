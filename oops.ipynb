{
 "cells": [
  {
   "cell_type": "markdown",
   "metadata": {},
   "source": [
    "### Variables vs Properties and Functions vs Methods"
   ]
  },
  {
   "cell_type": "code",
   "execution_count": 4,
   "metadata": {},
   "outputs": [],
   "source": [
    "# Create variable for student with name \"Hari\"\n",
    "name = \"Hari\"\n",
    "roll_no = 12\n",
    "branch = \"CSE\"\n",
    "paid_amount = 120000\n",
    "\n",
    "#create some function for the student\n",
    "def get_name_roll(self):\n",
    "    print(f\"The name of the student is {self.name} and his/her roll no is {self.roll_no}\")\n",
    "\n",
    "def get_summary(self):\n",
    "    print(f\"The student name is {self.name} and roll no is  {self.roll_no} \\n he is from {self.branch} and his amount is {self.paid_amount}\")"
   ]
  },
  {
   "cell_type": "code",
   "execution_count": 2,
   "metadata": {},
   "outputs": [
    {
     "name": "stdout",
     "output_type": "stream",
     "text": [
      "The name of the student is Hari and his/her roll no is 12\n"
     ]
    }
   ],
   "source": [
    "get_name_roll()"
   ]
  },
  {
   "cell_type": "code",
   "execution_count": 5,
   "metadata": {},
   "outputs": [
    {
     "name": "stdout",
     "output_type": "stream",
     "text": [
      "The student name is Hari and roll no is  12 \n",
      " he is from CSE and his amount is 120000\n"
     ]
    }
   ],
   "source": [
    "get_summary()"
   ]
  },
  {
   "cell_type": "code",
   "execution_count": null,
   "metadata": {},
   "outputs": [],
   "source": [
    "#create a class for student\n",
    "class student:\n",
    "    def __init__(self, name, roll_no, branch, paid_amount):\n",
    "        self.name = name\n",
    "        self.roll_no = roll_no\n",
    "        self.branch = branch\n",
    "        self.paid_amount = paid_amount"
   ]
  },
  {
   "attachments": {},
   "cell_type": "markdown",
   "metadata": {},
   "source": [
    "### create a s/w for the college to collect data of every person and store"
   ]
  },
  {
   "cell_type": "code",
   "execution_count": null,
   "metadata": {},
   "outputs": [],
   "source": [
    "class teacher:\n",
    "    def __init__(self, name, id_no, DOB, mobile_no, dept):\n",
    "        self.name = name\n",
    "        self.id_no = id_no\n",
    "        self.DOB = DOB\n",
    "        self.mobile_no = mobile_no\n",
    "        self.dept = dept\n",
    "    def get_summary(self):\n",
    "        print(f\"The name of the person is {self.name} and id is {self.id_no} \\n and the DOB is {self.DOB}, mobile number is {self.mobile_no}\")\n",
    "\n",
    "class non_teacher:\n",
    "    def __init__(self,name, id_no, DOB, mobile_no):\n",
    "        self.name = name\n",
    "        self.id_no = id_no\n",
    "        self.DOB = DOB\n",
    "        self.mobile_no = mobile_no\n",
    "        \n",
    "class student:\n",
    "    def __init__(self, name, id_no, DOB, mobile_no, dept, paid_amount, passing_year):\n",
    "        self.name = name\n",
    "        self.id_no = id_no\n",
    "        self.DOB = DOB\n",
    "        self.mobile_no = mobile_no\n",
    "        self.dept = dept\n",
    "        self.paid_amount = paid_amount\n",
    "        self.passing_year = passing_year\n"
   ]
  },
  {
   "cell_type": "code",
   "execution_count": 14,
   "metadata": {},
   "outputs": [],
   "source": [
    "class person:\n",
    "    def __init__(self,name, id_no, DOB, mobile_no):\n",
    "        self.name = name\n",
    "        self.id_no = id_no\n",
    "        self.DOB = DOB\n",
    "        self.mobile_no = mobile_no\n",
    "    def get_summary(self):\n",
    "        print(f\"The name of the person is {self.name} and id is {self.id_no} \\n and the DOB is {self.DOB}, mobile number is {self.mobile_no}\")\n",
    "\n",
    "class teacher(person):\n",
    "    def __init__(self,name, id_no, DOB, mobile_no, dept):\n",
    "        super().__init__(name, id_no, DOB, mobile_no)\n",
    "        self.dept = dept\n",
    "\n",
    "class non_teacher(person):\n",
    "    def __init__(self,name,id_no, DOB, mobile_no):\n",
    "        super().__init__(name,id_no, DOB, mobile_no)\n",
    "\n",
    "class student(teacher):\n",
    "    def __init__(self,name, id_no, DOB, mobile_no,dept,paid_amount,passing_year):\n",
    "        super().__init__(name, id_no, DOB, mobile_no,dept)\n",
    "        self.paid_amount = paid_amount\n",
    "        self.passing_year = passing_year"
   ]
  },
  {
   "cell_type": "code",
   "execution_count": 15,
   "metadata": {},
   "outputs": [],
   "source": [
    "teacher1 = teacher(\"Sakthi\",50,27042004,9999999999,\"CSE\")\n",
    "student1 = student(\"Gokul\",18,27042004,9342104213, \"CSE\",12000,2025)"
   ]
  },
  {
   "cell_type": "code",
   "execution_count": 16,
   "metadata": {},
   "outputs": [
    {
     "name": "stdout",
     "output_type": "stream",
     "text": [
      "The name of the person is Sakthi and id is 50 \n",
      " and the DOB is 27042004, mobile number is 9999999999\n"
     ]
    }
   ],
   "source": [
    "teacher1.get_summary()"
   ]
  },
  {
   "cell_type": "code",
   "execution_count": 17,
   "metadata": {},
   "outputs": [
    {
     "name": "stdout",
     "output_type": "stream",
     "text": [
      "The name of the person is Gokul and id is 18 \n",
      " and the DOB is 27042004, mobile number is 9342104213\n"
     ]
    }
   ],
   "source": [
    "student1.get_summary()"
   ]
  }
 ],
 "metadata": {
  "kernelspec": {
   "display_name": "Python 3",
   "language": "python",
   "name": "python3"
  },
  "language_info": {
   "codemirror_mode": {
    "name": "ipython",
    "version": 3
   },
   "file_extension": ".py",
   "mimetype": "text/x-python",
   "name": "python",
   "nbconvert_exporter": "python",
   "pygments_lexer": "ipython3",
   "version": "3.11.6"
  },
  "orig_nbformat": 4
 },
 "nbformat": 4,
 "nbformat_minor": 2
}
