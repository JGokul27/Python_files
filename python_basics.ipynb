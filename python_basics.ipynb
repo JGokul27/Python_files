{
 "cells": [
  {
   "attachments": {},
   "cell_type": "markdown",
   "metadata": {},
   "source": [
    "# Python\n",
    "## 1. Variables in python"
   ]
  },
  {
   "cell_type": "code",
   "execution_count": 1,
   "metadata": {},
   "outputs": [],
   "source": [
    "#Variable rules\n",
    "x = 10\n",
    "y = 100.0"
   ]
  },
  {
   "attachments": {},
   "cell_type": "markdown",
   "metadata": {},
   "source": [
    "## 2.Conditonal statement"
   ]
  },
  {
   "cell_type": "code",
   "execution_count": null,
   "metadata": {},
   "outputs": [],
   "source": []
  },
  {
   "attachments": {},
   "cell_type": "markdown",
   "metadata": {},
   "source": [
    "### 3.Loop statements"
   ]
  },
  {
   "attachments": {},
   "cell_type": "markdown",
   "metadata": {},
   "source": [
    "#### 3.2 While loop"
   ]
  },
  {
   "cell_type": "code",
   "execution_count": 2,
   "metadata": {},
   "outputs": [
    {
     "name": "stdout",
     "output_type": "stream",
     "text": [
      "Condition not satisfied\n"
     ]
    }
   ],
   "source": [
    "#while loop with else\n",
    "x = 10\n",
    "while x<10:\n",
    "    print(\"hello\")\n",
    "else:\n",
    "    print(\"Condition not satisfied\")"
   ]
  },
  {
   "attachments": {},
   "cell_type": "markdown",
   "metadata": {},
   "source": [
    "### 4. Defining functions"
   ]
  },
  {
   "cell_type": "code",
   "execution_count": 7,
   "metadata": {},
   "outputs": [
    {
     "name": "stdout",
     "output_type": "stream",
     "text": [
      "0\n",
      "1\n",
      "1\n",
      "2\n",
      "3\n",
      "5\n",
      "8\n",
      "13\n",
      "21\n",
      "34\n"
     ]
    }
   ],
   "source": [
    "# write a code to generate fibonaccci series till 10 th term\n",
    "n = 10\n",
    "x = 0\n",
    "y = 1\n",
    "print(x)\n",
    "print(y)\n",
    "for i in range(n - 2):\n",
    "    z = x + y\n",
    "    x = y\n",
    "    y = z\n",
    "    print(z)"
   ]
  },
  {
   "cell_type": "code",
   "execution_count": 11,
   "metadata": {},
   "outputs": [],
   "source": [
    "def fibonacci(n):\n",
    "    n = 10\n",
    "    x = 0\n",
    "    y = 1\n",
    "    fibo = [x,y]\n",
    "    for i in range(n - 2):\n",
    "        z = x + y\n",
    "        x = y\n",
    "        y = z\n",
    "        fibo.append(z)\n",
    "    return fibo"
   ]
  },
  {
   "cell_type": "code",
   "execution_count": 12,
   "metadata": {},
   "outputs": [
    {
     "name": "stdout",
     "output_type": "stream",
     "text": [
      "[0, 1, 1, 2, 3, 5, 8, 13, 21, 34]\n"
     ]
    }
   ],
   "source": [
    "x = fibonacci(10)\n",
    "print(x)"
   ]
  },
  {
   "cell_type": "code",
   "execution_count": 10,
   "metadata": {},
   "outputs": [
    {
     "name": "stdout",
     "output_type": "stream",
     "text": [
      "Welcome\n"
     ]
    }
   ],
   "source": [
    "#Basic structure of function\n",
    "def hello(n):\n",
    "    print(n)\n",
    "\n",
    "hello(\"Welcome\")"
   ]
  },
  {
   "cell_type": "code",
   "execution_count": 13,
   "metadata": {},
   "outputs": [],
   "source": [
    "# create a function to generate factorial of n\n",
    "\n",
    "def factorial(n):\n",
    "    if n < 0:\n",
    "        return \"Negative number\"\n",
    "    elif n == 0:\n",
    "        return 1\n",
    "    else:\n",
    "        return n * factorial(n-1)\n"
   ]
  },
  {
   "cell_type": "code",
   "execution_count": 14,
   "metadata": {},
   "outputs": [
    {
     "name": "stdout",
     "output_type": "stream",
     "text": [
      "40320\n"
     ]
    }
   ],
   "source": [
    "print(factorial(8))"
   ]
  },
  {
   "cell_type": "code",
   "execution_count": 18,
   "metadata": {},
   "outputs": [],
   "source": [
    "def result(n):\n",
    "    result = 1\n",
    "    n = n\n",
    "    while n != 1:\n",
    "        result = result*n\n",
    "        n = n -1\n",
    "    return result"
   ]
  },
  {
   "cell_type": "code",
   "execution_count": 19,
   "metadata": {},
   "outputs": [
    {
     "data": {
      "text/plain": [
       "24"
      ]
     },
     "execution_count": 19,
     "metadata": {},
     "output_type": "execute_result"
    }
   ],
   "source": [
    "result(4)"
   ]
  },
  {
   "cell_type": "code",
   "execution_count": 20,
   "metadata": {},
   "outputs": [],
   "source": [
    "y = lambda x,z:(x-1)*z"
   ]
  },
  {
   "cell_type": "code",
   "execution_count": 21,
   "metadata": {},
   "outputs": [
    {
     "data": {
      "text/plain": [
       "3"
      ]
     },
     "execution_count": 21,
     "metadata": {},
     "output_type": "execute_result"
    }
   ],
   "source": [
    "y(2,3)"
   ]
  },
  {
   "cell_type": "code",
   "execution_count": 23,
   "metadata": {},
   "outputs": [],
   "source": [
    "#List, Tuple, set, dictionary\n",
    "student_details_list = [\"gokul\", \"cse\", \"19\"]\n",
    "student_details_dict = {\"name\":\"gokul\",\"dept\":\"cse\",\"age\":19}"
   ]
  },
  {
   "cell_type": "code",
   "execution_count": 24,
   "metadata": {},
   "outputs": [
    {
     "data": {
      "text/plain": [
       "19"
      ]
     },
     "execution_count": 24,
     "metadata": {},
     "output_type": "execute_result"
    }
   ],
   "source": [
    "student_details_dict[\"age\"]"
   ]
  },
  {
   "cell_type": "code",
   "execution_count": 25,
   "metadata": {},
   "outputs": [],
   "source": [
    "student_details_tuple = (\"gokul\", \"cse\", \"19\")\n",
    "student_details_set = {\"gokul\", \"cse\", \"19\"}"
   ]
  },
  {
   "attachments": {},
   "cell_type": "markdown",
   "metadata": {},
   "source": [
    "List and string slicing"
   ]
  },
  {
   "cell_type": "code",
   "execution_count": 26,
   "metadata": {},
   "outputs": [],
   "source": [
    "student_details_list = [\"gokul\", \"cse\",\"vaigai\", \"19\"]"
   ]
  },
  {
   "cell_type": "code",
   "execution_count": 27,
   "metadata": {},
   "outputs": [
    {
     "data": {
      "text/plain": [
       "['cse', 'vaigai']"
      ]
     },
     "execution_count": 27,
     "metadata": {},
     "output_type": "execute_result"
    }
   ],
   "source": [
    "student_details_list[1:3]"
   ]
  },
  {
   "cell_type": "code",
   "execution_count": 9,
   "metadata": {},
   "outputs": [
    {
     "name": "stdout",
     "output_type": "stream",
     "text": [
      "19\n"
     ]
    }
   ],
   "source": [
    "def calculate_age():\n",
    "    dob = input(\"Enter the DOB in ddmmyyyy format\")\n",
    "    yob = dob[4:8]\n",
    "    year = int(yob)\n",
    "    age = 2023-year\n",
    "    print(age)\n",
    "calculate_age()\n"
   ]
  },
  {
   "cell_type": "code",
   "execution_count": 10,
   "metadata": {},
   "outputs": [
    {
     "name": "stdout",
     "output_type": "stream",
     "text": [
      "0 years 0 months and 1 days old\n"
     ]
    }
   ],
   "source": [
    "#define a func that will take user input and calculate age with month and day also\n",
    "def calc_age():\n",
    "    dob = input(\"Enter the DOB in ddmmyyyy format\")\n",
    "    yob = dob[4:8]\n",
    "    mob = dob[2:4]\n",
    "    date = dob[0:2]\n",
    "    year = int(yob)\n",
    "    month = int(mob)\n",
    "    day = int(date)\n",
    "    years_old = 2023 - year\n",
    "    month_old = 10 - month\n",
    "    days_old = 28 - day\n",
    "    print(str(years_old) +\" \" + \"years \" +str(month_old) + \" \" + \"months and\" + \" \" + str(days_old) + \" \" +\"days old\")\n",
    "calc_age()\n"
   ]
  },
  {
   "cell_type": "code",
   "execution_count": 2,
   "metadata": {},
   "outputs": [
    {
     "name": "stdout",
     "output_type": "stream",
     "text": [
      "The age is 18 year,10 month, 3 days\n"
     ]
    }
   ],
   "source": [
    "def calculate_ad():\n",
    "    dob = input(\"Enter the DOB in ddmmyyyy format\")\n",
    "    yob = dob[4:8]\n",
    "    mob = dob[2:4]\n",
    "    day_b = dob[0:3]\n",
    "    yob = int(yob)\n",
    "    mob = int(mob)\n",
    "    day_b = int(day_b)\n",
    "    #convert to days\n",
    "    birth_days = 365*yob + 30*mob + day_b\n",
    "    current_days = 365*2023 + 30*10 + 28\n",
    "    #calculate age in days\n",
    "    age_days = current_days - birth_days\n",
    "    #convert age in year\n",
    "    age_year = age_days//365\n",
    "    remainder_days = age_days%365\n",
    "    age_month  = remainder_days//30\n",
    "    age_days = remainder_days%30\n",
    "    print(f\"The age is {age_year} year,{age_month} month, {age_days} days\")\n",
    "calculate_ad()"
   ]
  },
  {
   "cell_type": "code",
   "execution_count": 5,
   "metadata": {},
   "outputs": [
    {
     "name": "stdout",
     "output_type": "stream",
     "text": [
      "Valid email\n"
     ]
    }
   ],
   "source": [
    "def mail_check():\n",
    "    mail = input(\"Enter the mail id\")\n",
    "    if \"@\" in mail and \".\" in mail:\n",
    "        print(\"Valid email\")\n",
    "    else:\n",
    "        print(\"Invalid\")\n",
    "mail_check()"
   ]
  },
  {
   "attachments": {},
   "cell_type": "markdown",
   "metadata": {},
   "source": [
    "## String formating"
   ]
  },
  {
   "cell_type": "code",
   "execution_count": 11,
   "metadata": {},
   "outputs": [
    {
     "name": "stdout",
     "output_type": "stream",
     "text": [
      "print string in default order: \n",
      "Python Programming Language\n"
     ]
    }
   ],
   "source": [
    "string1 = \"{} {} {}\".format('Python', 'Programming', 'Language')\n",
    "print(\"print string in default order: \")\n",
    "print(string1)"
   ]
  },
  {
   "attachments": {},
   "cell_type": "markdown",
   "metadata": {},
   "source": [
    "## Object Oriented Programming"
   ]
  },
  {
   "cell_type": "code",
   "execution_count": 13,
   "metadata": {},
   "outputs": [],
   "source": [
    "#keep the details of the student in lists\n",
    "student_names = [] #list to store names\n",
    "roll_nums = []\n",
    "branches = []\n",
    "paid_amounts = []"
   ]
  },
  {
   "cell_type": "code",
   "execution_count": 14,
   "metadata": {},
   "outputs": [],
   "source": [
    "def create_student(name, roll_no, branch, paid_amount):\n",
    "    student_names.append(name)\n",
    "    roll_nums.append(roll_no)\n",
    "    branches.append(branch)\n",
    "    paid_amounts.append(paid_amount)"
   ]
  },
  {
   "cell_type": "code",
   "execution_count": 20,
   "metadata": {},
   "outputs": [],
   "source": [
    "create_student(\"Asif\",30,\"cse\",150000)"
   ]
  },
  {
   "cell_type": "code",
   "execution_count": 21,
   "metadata": {},
   "outputs": [
    {
     "name": "stdout",
     "output_type": "stream",
     "text": [
      "['velan', 'Asif'] \n",
      " [12, 30] \n",
      " ['cse', 'cse'] \n",
      " [100000, 150000]\n"
     ]
    }
   ],
   "source": [
    "print(student_names,\"\\n\",roll_nums,\"\\n\",branches,'\\n',paid_amounts)"
   ]
  },
  {
   "cell_type": "code",
   "execution_count": null,
   "metadata": {},
   "outputs": [],
   "source": [
    "\"\"\"\n",
    "create a class of students where properties are:\n",
    "name, branch, paid amount,roll_no\n",
    "\n",
    "methods/functions\n",
    "get_name()\n",
    "get_branch()\n",
    "get_paid_amount()\n",
    "get_roll_no()\n",
    "get_summary()\n",
    "\"\"\""
   ]
  },
  {
   "cell_type": "code",
   "execution_count": 27,
   "metadata": {},
   "outputs": [],
   "source": [
    "class student:\n",
    "    def __init__(self, name, roll_no, branch, paid_amount):\n",
    "        self.name = name\n",
    "        self.roll_no = roll_no\n",
    "        self.branch = branch\n",
    "        self.paid_amount = paid_amount\n",
    "    def get_summary(self):\n",
    "        print(f\"The name of the student is {self.name} \\n His roll number is {self.roll_no} \\n He belongs to {self.branch} branch and has paid amount as Rs. {self.paid_amount}\")\n"
   ]
  },
  {
   "cell_type": "code",
   "execution_count": 32,
   "metadata": {},
   "outputs": [
    {
     "name": "stdout",
     "output_type": "stream",
     "text": [
      "The name of the student is velan \n",
      " His roll number is 12 \n",
      " He belongs to cse branch and has paid amount as Rs. 1200000\n"
     ]
    }
   ],
   "source": [
    "velan = student(\"velan\",12,\"cse\",1200000)\n",
    "velan.get_summary()"
   ]
  },
  {
   "cell_type": "code",
   "execution_count": 29,
   "metadata": {},
   "outputs": [
    {
     "name": "stdout",
     "output_type": "stream",
     "text": [
      "velan\n",
      "12\n",
      "cse\n",
      "1200000\n"
     ]
    }
   ],
   "source": [
    "print(velan.name)\n",
    "print(velan.roll_no)\n",
    "print(velan.branch)\n",
    "print(velan.paid_amount)"
   ]
  }
 ],
 "metadata": {
  "kernelspec": {
   "display_name": "Python 3",
   "language": "python",
   "name": "python3"
  },
  "language_info": {
   "codemirror_mode": {
    "name": "ipython",
    "version": 3
   },
   "file_extension": ".py",
   "mimetype": "text/x-python",
   "name": "python",
   "nbconvert_exporter": "python",
   "pygments_lexer": "ipython3",
   "version": "3.11.6"
  },
  "orig_nbformat": 4
 },
 "nbformat": 4,
 "nbformat_minor": 2
}
